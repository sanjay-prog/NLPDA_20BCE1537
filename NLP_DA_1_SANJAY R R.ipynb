{
 "cells": [
  {
   "cell_type": "markdown",
   "id": "90c606f1",
   "metadata": {},
   "source": [
    "NLP DA-1\n",
    "SANJAY R R\n",
    "20BCE1537"
   ]
  },
  {
   "cell_type": "markdown",
   "id": "79b49ad9",
   "metadata": {},
   "source": [
    "1. Utilize Python NLTK (Natural Language Tool Kit) Platform and do the following.\n",
    "Install relevant Packages and Libraries\n"
   ]
  },
  {
   "cell_type": "code",
   "execution_count": 1,
   "id": "86dc6b73",
   "metadata": {},
   "outputs": [
    {
     "name": "stderr",
     "output_type": "stream",
     "text": [
      "[nltk_data] Downloading package brown to\n",
      "[nltk_data]     C:\\Users\\sanjay\\AppData\\Roaming\\nltk_data...\n",
      "[nltk_data]   Unzipping corpora\\brown.zip.\n"
     ]
    },
    {
     "data": {
      "text/plain": [
       "['adventure',\n",
       " 'belles_lettres',\n",
       " 'editorial',\n",
       " 'fiction',\n",
       " 'government',\n",
       " 'hobbies',\n",
       " 'humor',\n",
       " 'learned',\n",
       " 'lore',\n",
       " 'mystery',\n",
       " 'news',\n",
       " 'religion',\n",
       " 'reviews',\n",
       " 'romance',\n",
       " 'science_fiction']"
      ]
     },
     "execution_count": 1,
     "metadata": {},
     "output_type": "execute_result"
    }
   ],
   "source": [
    "import nltk\n",
    "import matplotlib as plt\n",
    "import pandas as pd\n",
    "import math\n",
    "from nltk.corpus import brown\n",
    "import numpy as np\n",
    "nltk.download('brown')\n",
    "from nltk.corpus import brown\n",
    "brown.categories()"
   ]
  },
  {
   "cell_type": "markdown",
   "id": "7cab465a",
   "metadata": {},
   "source": [
    "The length of words"
   ]
  },
  {
   "cell_type": "code",
   "execution_count": 2,
   "id": "5b3fa6b3",
   "metadata": {},
   "outputs": [
    {
     "name": "stdout",
     "output_type": "stream",
     "text": [
      "Length of words is: \n"
     ]
    },
    {
     "data": {
      "text/plain": [
       "1161192"
      ]
     },
     "execution_count": 2,
     "metadata": {},
     "output_type": "execute_result"
    }
   ],
   "source": [
    "print(\"Length of words is: \")\n",
    "len(brown.words())"
   ]
  },
  {
   "cell_type": "markdown",
   "id": "485ba590",
   "metadata": {},
   "source": [
    "The number of words"
   ]
  },
  {
   "cell_type": "code",
   "execution_count": 4,
   "id": "add186d7",
   "metadata": {},
   "outputs": [
    {
     "name": "stdout",
     "output_type": "stream",
     "text": [
      "Total number of words:\n",
      "207\n"
     ]
    }
   ],
   "source": [
    "number_of_words = 0\n",
    "with open('nlpda.txt','r') as file:\n",
    "\tdata = file.read()\n",
    "\tlines = data.split()\n",
    "\tnumber_of_words += len(lines)\n",
    "print(\"Total number of words:\")\n",
    "print(number_of_words)"
   ]
  },
  {
   "cell_type": "code",
   "execution_count": 5,
   "id": "56d73375",
   "metadata": {},
   "outputs": [
    {
     "data": {
      "text/plain": [
       "'In 2015, SpaceX began development of the Starlink constellation of low-Earth-orbit satellites to provide satellite Internet access, with the first two prototype satellites launched in February 2018.\\nA second set of test satellites, and the first large deployment of a piece of the constellation, occurred in May 2019, when the first 60 operational satellites were launched.\\nThe total cost of the decade-long project to design, build, and deploy the constellation is estimated by SpaceX to be about $10 billion.\\nSome critics, including the International Astronomical Union, have alleged that Starlink blocks the view of the sky and poses a collision threat to spacecraft.\\nDuring the 2022 Russian invasion of Ukraine, Musk sent Starlink terminals to Ukraine to provide Internet access and communication.\\nHowever, Musk refused to block Russian state media on Starlink, declaring himself \"a free speech absolutist\".\\nIn October 2022, Musk stated that about 20,000 satellite terminals had been donated to Ukraine, together with free data transfer subscriptions, which cost SpaceX $80 million. After asking the United States Department of Defense to pay for further units and future subscriptions on behalf of Ukraine, Musk publicly stated that SpaceX would continue to provide Starlink to Ukraine for free, at a yearly cost to itself of $400 million'"
      ]
     },
     "execution_count": 5,
     "metadata": {},
     "output_type": "execute_result"
    }
   ],
   "source": [
    "f = open(\"nlpda.txt\", 'r', errors = 'ignore')\n",
    "x = f.read()\n",
    "x"
   ]
  },
  {
   "cell_type": "code",
   "execution_count": 6,
   "id": "379b4045",
   "metadata": {},
   "outputs": [
    {
     "name": "stdout",
     "output_type": "stream",
     "text": [
      "Counter({' ': 200, 'e': 126, 't': 122, 'a': 83, 'o': 81, 'n': 76, 'i': 76, 's': 69, 'l': 60, 'r': 57, 'c': 41, 'd': 33, 'h': 32, 'f': 29, 'u': 27, 'p': 23, ',': 18, 'b': 18, 'k': 18, '0': 14, 'm': 14, 'S': 11, 'y': 11, '2': 10, 'g': 10, 'w': 10, 'v': 8, '.': 7, 'U': 7, '\\n': 6, 'I': 5, 'M': 5, '1': 4, 'X': 4, '-': 3, 'A': 3, '$': 3, 'D': 3, '8': 2, 'R': 2, '\"': 2, '5': 1, 'E': 1, 'F': 1, '9': 1, '6': 1, 'T': 1, 'j': 1, 'H': 1, 'O': 1, '4': 1})\n"
     ]
    }
   ],
   "source": [
    "from collections import Counter\n",
    "the_count = Counter(x)\n",
    "print(the_count)"
   ]
  },
  {
   "cell_type": "code",
   "execution_count": 7,
   "id": "af9efd30",
   "metadata": {},
   "outputs": [
    {
     "data": {
      "text/plain": [
       "['The', 'Office', 'of', 'Business', 'Economics', '(', ...]"
      ]
     },
     "execution_count": 7,
     "metadata": {},
     "output_type": "execute_result"
    }
   ],
   "source": [
    "brown.words(categories='government')"
   ]
  },
  {
   "cell_type": "code",
   "execution_count": 8,
   "id": "41eafeb7",
   "metadata": {},
   "outputs": [
    {
     "name": "stdout",
     "output_type": "stream",
     "text": [
      "[('the', 12), ('to', 12), ('of', 11), ('and', 5)]\n"
     ]
    }
   ],
   "source": [
    "from collections import Counter\n",
    "split_it = x.split()\n",
    "Counter = Counter(split_it)\n",
    "most_occur = Counter.most_common(4)\n",
    "print(most_occur)"
   ]
  },
  {
   "cell_type": "code",
   "execution_count": 9,
   "id": "cbb6a3c4",
   "metadata": {},
   "outputs": [
    {
     "name": "stderr",
     "output_type": "stream",
     "text": [
      "[nltk_data] Downloading package punkt to\n",
      "[nltk_data]     C:\\Users\\sanjay\\AppData\\Roaming\\nltk_data...\n",
      "[nltk_data]   Unzipping tokenizers\\punkt.zip.\n",
      "[nltk_data] Downloading package wordnet to\n",
      "[nltk_data]     C:\\Users\\sanjay\\AppData\\Roaming\\nltk_data...\n"
     ]
    },
    {
     "data": {
      "text/plain": [
       "8"
      ]
     },
     "execution_count": 9,
     "metadata": {},
     "output_type": "execute_result"
    }
   ],
   "source": [
    "nltk.download('punkt') \n",
    "nltk.download('wordnet') \n",
    "from nltk.tokenize import sent_tokenize, word_tokenize\n",
    "sentences= nltk.sent_tokenize(x)\n",
    "length= len(sentences)\n",
    "length"
   ]
  },
  {
   "cell_type": "markdown",
   "id": "404b0c2e",
   "metadata": {},
   "source": [
    "2. Explore the corpora available in NLTK"
   ]
  },
  {
   "cell_type": "markdown",
   "id": "8134ce34",
   "metadata": {},
   "source": [
    "Parsed Corpora"
   ]
  },
  {
   "cell_type": "code",
   "execution_count": 10,
   "id": "ff0dcdbf",
   "metadata": {},
   "outputs": [
    {
     "name": "stderr",
     "output_type": "stream",
     "text": [
      "[nltk_data] Downloading package treebank to\n",
      "[nltk_data]     C:\\Users\\sanjay\\AppData\\Roaming\\nltk_data...\n",
      "[nltk_data]   Unzipping corpora\\treebank.zip.\n"
     ]
    },
    {
     "name": "stdout",
     "output_type": "stream",
     "text": [
      "['wsj_0001.mrg', 'wsj_0002.mrg', 'wsj_0003.mrg', 'wsj_0004.mrg', 'wsj_0005.mrg', 'wsj_0006.mrg', 'wsj_0007.mrg', 'wsj_0008.mrg', 'wsj_0009.mrg', 'wsj_0010.mrg', 'wsj_0011.mrg', 'wsj_0012.mrg', 'wsj_0013.mrg', 'wsj_0014.mrg', 'wsj_0015.mrg', 'wsj_0016.mrg', 'wsj_0017.mrg', 'wsj_0018.mrg', 'wsj_0019.mrg', 'wsj_0020.mrg', 'wsj_0021.mrg', 'wsj_0022.mrg', 'wsj_0023.mrg', 'wsj_0024.mrg', 'wsj_0025.mrg', 'wsj_0026.mrg', 'wsj_0027.mrg', 'wsj_0028.mrg', 'wsj_0029.mrg', 'wsj_0030.mrg', 'wsj_0031.mrg', 'wsj_0032.mrg', 'wsj_0033.mrg', 'wsj_0034.mrg', 'wsj_0035.mrg', 'wsj_0036.mrg', 'wsj_0037.mrg', 'wsj_0038.mrg', 'wsj_0039.mrg', 'wsj_0040.mrg', 'wsj_0041.mrg', 'wsj_0042.mrg', 'wsj_0043.mrg', 'wsj_0044.mrg', 'wsj_0045.mrg', 'wsj_0046.mrg', 'wsj_0047.mrg', 'wsj_0048.mrg', 'wsj_0049.mrg', 'wsj_0050.mrg', 'wsj_0051.mrg', 'wsj_0052.mrg', 'wsj_0053.mrg', 'wsj_0054.mrg', 'wsj_0055.mrg', 'wsj_0056.mrg', 'wsj_0057.mrg', 'wsj_0058.mrg', 'wsj_0059.mrg', 'wsj_0060.mrg', 'wsj_0061.mrg', 'wsj_0062.mrg', 'wsj_0063.mrg', 'wsj_0064.mrg', 'wsj_0065.mrg', 'wsj_0066.mrg', 'wsj_0067.mrg', 'wsj_0068.mrg', 'wsj_0069.mrg', 'wsj_0070.mrg', 'wsj_0071.mrg', 'wsj_0072.mrg', 'wsj_0073.mrg', 'wsj_0074.mrg', 'wsj_0075.mrg', 'wsj_0076.mrg', 'wsj_0077.mrg', 'wsj_0078.mrg', 'wsj_0079.mrg', 'wsj_0080.mrg', 'wsj_0081.mrg', 'wsj_0082.mrg', 'wsj_0083.mrg', 'wsj_0084.mrg', 'wsj_0085.mrg', 'wsj_0086.mrg', 'wsj_0087.mrg', 'wsj_0088.mrg', 'wsj_0089.mrg', 'wsj_0090.mrg', 'wsj_0091.mrg', 'wsj_0092.mrg', 'wsj_0093.mrg', 'wsj_0094.mrg', 'wsj_0095.mrg', 'wsj_0096.mrg', 'wsj_0097.mrg', 'wsj_0098.mrg', 'wsj_0099.mrg', 'wsj_0100.mrg', 'wsj_0101.mrg', 'wsj_0102.mrg', 'wsj_0103.mrg', 'wsj_0104.mrg', 'wsj_0105.mrg', 'wsj_0106.mrg', 'wsj_0107.mrg', 'wsj_0108.mrg', 'wsj_0109.mrg', 'wsj_0110.mrg', 'wsj_0111.mrg', 'wsj_0112.mrg', 'wsj_0113.mrg', 'wsj_0114.mrg', 'wsj_0115.mrg', 'wsj_0116.mrg', 'wsj_0117.mrg', 'wsj_0118.mrg', 'wsj_0119.mrg', 'wsj_0120.mrg', 'wsj_0121.mrg', 'wsj_0122.mrg', 'wsj_0123.mrg', 'wsj_0124.mrg', 'wsj_0125.mrg', 'wsj_0126.mrg', 'wsj_0127.mrg', 'wsj_0128.mrg', 'wsj_0129.mrg', 'wsj_0130.mrg', 'wsj_0131.mrg', 'wsj_0132.mrg', 'wsj_0133.mrg', 'wsj_0134.mrg', 'wsj_0135.mrg', 'wsj_0136.mrg', 'wsj_0137.mrg', 'wsj_0138.mrg', 'wsj_0139.mrg', 'wsj_0140.mrg', 'wsj_0141.mrg', 'wsj_0142.mrg', 'wsj_0143.mrg', 'wsj_0144.mrg', 'wsj_0145.mrg', 'wsj_0146.mrg', 'wsj_0147.mrg', 'wsj_0148.mrg', 'wsj_0149.mrg', 'wsj_0150.mrg', 'wsj_0151.mrg', 'wsj_0152.mrg', 'wsj_0153.mrg', 'wsj_0154.mrg', 'wsj_0155.mrg', 'wsj_0156.mrg', 'wsj_0157.mrg', 'wsj_0158.mrg', 'wsj_0159.mrg', 'wsj_0160.mrg', 'wsj_0161.mrg', 'wsj_0162.mrg', 'wsj_0163.mrg', 'wsj_0164.mrg', 'wsj_0165.mrg', 'wsj_0166.mrg', 'wsj_0167.mrg', 'wsj_0168.mrg', 'wsj_0169.mrg', 'wsj_0170.mrg', 'wsj_0171.mrg', 'wsj_0172.mrg', 'wsj_0173.mrg', 'wsj_0174.mrg', 'wsj_0175.mrg', 'wsj_0176.mrg', 'wsj_0177.mrg', 'wsj_0178.mrg', 'wsj_0179.mrg', 'wsj_0180.mrg', 'wsj_0181.mrg', 'wsj_0182.mrg', 'wsj_0183.mrg', 'wsj_0184.mrg', 'wsj_0185.mrg', 'wsj_0186.mrg', 'wsj_0187.mrg', 'wsj_0188.mrg', 'wsj_0189.mrg', 'wsj_0190.mrg', 'wsj_0191.mrg', 'wsj_0192.mrg', 'wsj_0193.mrg', 'wsj_0194.mrg', 'wsj_0195.mrg', 'wsj_0196.mrg', 'wsj_0197.mrg', 'wsj_0198.mrg', 'wsj_0199.mrg']\n",
      "['A', 'form', 'of', 'asbestos', 'once', 'used', '*', ...]\n",
      "[('A', 'DT'), ('form', 'NN'), ('of', 'IN'), ...]\n",
      "(S\n",
      "  (S-TPC-1\n",
      "    (NP-SBJ\n",
      "      (NP (NP (DT A) (NN form)) (PP (IN of) (NP (NN asbestos))))\n",
      "      (RRC\n",
      "        (ADVP-TMP (RB once))\n",
      "        (VP\n",
      "          (VBN used)\n",
      "          (NP (-NONE- *))\n",
      "          (S-CLR\n",
      "            (NP-SBJ (-NONE- *))\n",
      "            (VP\n",
      "              (TO to)\n",
      "              (VP\n",
      "                (VB make)\n",
      "                (NP (NNP Kent) (NN cigarette) (NNS filters))))))))\n",
      "    (VP\n",
      "      (VBZ has)\n",
      "      (VP\n",
      "        (VBN caused)\n",
      "        (NP\n",
      "          (NP (DT a) (JJ high) (NN percentage))\n",
      "          (PP (IN of) (NP (NN cancer) (NNS deaths)))\n",
      "          (PP-LOC\n",
      "            (IN among)\n",
      "            (NP\n",
      "              (NP (DT a) (NN group))\n",
      "              (PP\n",
      "                (IN of)\n",
      "                (NP\n",
      "                  (NP (NNS workers))\n",
      "                  (RRC\n",
      "                    (VP\n",
      "                      (VBN exposed)\n",
      "                      (NP (-NONE- *))\n",
      "                      (PP-CLR (TO to) (NP (PRP it)))\n",
      "                      (ADVP-TMP\n",
      "                        (NP\n",
      "                          (QP (RBR more) (IN than) (CD 30))\n",
      "                          (NNS years))\n",
      "                        (IN ago))))))))))))\n",
      "  (, ,)\n",
      "  (NP-SBJ (NNS researchers))\n",
      "  (VP (VBD reported) (SBAR (-NONE- 0) (S (-NONE- *T*-1))))\n",
      "  (. .))\n"
     ]
    }
   ],
   "source": [
    "nltk.download('treebank')\n",
    "from nltk.corpus import treebank\n",
    "print(treebank.fileids())\n",
    "print(treebank.words('wsj_0003.mrg'))\n",
    "print(treebank.tagged_words('wsj_0003.mrg'))\n",
    "print(treebank.parsed_sents('wsj_0003.mrg')[0])"
   ]
  },
  {
   "cell_type": "markdown",
   "id": "3f5a8623",
   "metadata": {},
   "source": [
    "POS tagged Corpora"
   ]
  },
  {
   "cell_type": "code",
   "execution_count": 11,
   "id": "ea9ce455",
   "metadata": {},
   "outputs": [
    {
     "name": "stdout",
     "output_type": "stream",
     "text": [
      "['The', 'Fulton', 'County', 'Grand', 'Jury', 'said', ...]\n",
      "[('The', 'AT'), ('Fulton', 'NP-TL'), ...]\n",
      "[['The', 'Fulton', 'County', 'Grand', 'Jury', 'said', 'Friday', 'an', 'investigation', 'of', \"Atlanta's\", 'recent', 'primary', 'election', 'produced', '``', 'no', 'evidence', \"''\", 'that', 'any', 'irregularities', 'took', 'place', '.'], ['The', 'jury', 'further', 'said', 'in', 'term-end', 'presentments', 'that', 'the', 'City', 'Executive', 'Committee', ',', 'which', 'had', 'over-all', 'charge', 'of', 'the', 'election', ',', '``', 'deserves', 'the', 'praise', 'and', 'thanks', 'of', 'the', 'City', 'of', 'Atlanta', \"''\", 'for', 'the', 'manner', 'in', 'which', 'the', 'election', 'was', 'conducted', '.'], ...]\n",
      "[[('The', 'AT'), ('Fulton', 'NP-TL'), ('County', 'NN-TL'), ('Grand', 'JJ-TL'), ('Jury', 'NN-TL'), ('said', 'VBD'), ('Friday', 'NR'), ('an', 'AT'), ('investigation', 'NN'), ('of', 'IN'), (\"Atlanta's\", 'NP$'), ('recent', 'JJ'), ('primary', 'NN'), ('election', 'NN'), ('produced', 'VBD'), ('``', '``'), ('no', 'AT'), ('evidence', 'NN'), (\"''\", \"''\"), ('that', 'CS'), ('any', 'DTI'), ('irregularities', 'NNS'), ('took', 'VBD'), ('place', 'NN'), ('.', '.')], [('The', 'AT'), ('jury', 'NN'), ('further', 'RBR'), ('said', 'VBD'), ('in', 'IN'), ('term-end', 'NN'), ('presentments', 'NNS'), ('that', 'CS'), ('the', 'AT'), ('City', 'NN-TL'), ('Executive', 'JJ-TL'), ('Committee', 'NN-TL'), (',', ','), ('which', 'WDT'), ('had', 'HVD'), ('over-all', 'JJ'), ('charge', 'NN'), ('of', 'IN'), ('the', 'AT'), ('election', 'NN'), (',', ','), ('``', '``'), ('deserves', 'VBZ'), ('the', 'AT'), ('praise', 'NN'), ('and', 'CC'), ('thanks', 'NNS'), ('of', 'IN'), ('the', 'AT'), ('City', 'NN-TL'), ('of', 'IN-TL'), ('Atlanta', 'NP-TL'), (\"''\", \"''\"), ('for', 'IN'), ('the', 'AT'), ('manner', 'NN'), ('in', 'IN'), ('which', 'WDT'), ('the', 'AT'), ('election', 'NN'), ('was', 'BEDZ'), ('conducted', 'VBN'), ('.', '.')], ...]\n",
      "[[['It', 'is', 'not', 'news', 'that', 'Nathan', 'Milstein', 'is', 'a', 'wizard', 'of', 'the', 'violin', '.'], ['Certainly', 'not', 'in', 'Orchestra', 'Hall', 'where', 'he', 'has', 'played', 'countless', 'recitals', ',', 'and', 'where', 'Thursday', 'night', 'he', 'celebrated', 'his', '20th', 'season', 'with', 'the', 'Chicago', 'Symphony', 'Orchestra', ',', 'playing', 'the', 'Brahms', 'Concerto', 'with', 'his', 'own', 'slashing', ',', 'demon-ridden', 'cadenza', 'melting', 'into', 'the', 'high', ',', 'pale', ',', 'pure', 'and', 'lovely', 'song', 'with', 'which', 'a', 'violinist', 'unlocks', 'the', 'heart', 'of', 'the', 'music', ',', 'or', 'forever', 'finds', 'it', 'closed', '.']], [['There', 'was', 'about', 'that', 'song', 'something', 'incandescent', ',', 'for', 'this', 'Brahms', 'was', 'Milstein', 'at', 'white', 'heat', '.'], ['Not', 'the', 'noblest', 'performance', 'we', 'have', 'heard', 'him', 'play', ',', 'or', 'the', 'most', 'spacious', ',', 'or', 'even', 'the', 'most', 'eloquent', '.'], ['Those', 'would', 'be', 'reserved', 'for', 'the', \"orchestra's\", 'great', 'nights', 'when', 'the', 'soloist', 'can', 'surpass', 'himself', '.'], ['This', 'time', 'the', 'orchestra', 'gave', 'him', 'some', 'superb', 'support', 'fired', 'by', 'response', 'to', 'his', 'own', 'high', 'mood', '.'], ['But', 'he', 'had', 'in', 'Walter', 'Hendl', 'a', 'willing', 'conductor', 'able', 'only', 'up', 'to', 'a', 'point', '.']], ...]\n",
      "[[[('It', 'PPS'), ('is', 'BEZ'), ('not', '*'), ('news', 'NN'), ('that', 'CS'), ('Nathan', 'NP'), ('Milstein', 'NP'), ('is', 'BEZ'), ('a', 'AT'), ('wizard', 'NN'), ('of', 'IN'), ('the', 'AT'), ('violin', 'NN'), ('.', '.')], [('Certainly', 'RB'), ('not', '*'), ('in', 'IN'), ('Orchestra', 'NN-TL'), ('Hall', 'NN-TL'), ('where', 'WRB'), ('he', 'PPS'), ('has', 'HVZ'), ('played', 'VBN'), ('countless', 'JJ'), ('recitals', 'NNS'), (',', ','), ('and', 'CC'), ('where', 'WRB'), ('Thursday', 'NR'), ('night', 'NN'), ('he', 'PPS'), ('celebrated', 'VBD'), ('his', 'PP$'), ('20th', 'OD'), ('season', 'NN'), ('with', 'IN'), ('the', 'AT'), ('Chicago', 'NP-TL'), ('Symphony', 'NN-TL'), ('Orchestra', 'NN-TL'), (',', ','), ('playing', 'VBG'), ('the', 'AT'), ('Brahms', 'NP-TL'), ('Concerto', 'NN-TL'), ('with', 'IN'), ('his', 'PP$'), ('own', 'JJ'), ('slashing', 'VBG'), (',', ','), ('demon-ridden', 'JJ'), ('cadenza', 'NN'), ('melting', 'VBG'), ('into', 'IN'), ('the', 'AT'), ('high', 'JJ'), (',', ','), ('pale', 'JJ'), (',', ','), ('pure', 'JJ'), ('and', 'CC'), ('lovely', 'JJ'), ('song', 'NN'), ('with', 'IN'), ('which', 'WDT'), ('a', 'AT'), ('violinist', 'NN'), ('unlocks', 'VBZ'), ('the', 'AT'), ('heart', 'NN'), ('of', 'IN'), ('the', 'AT'), ('music', 'NN'), (',', ','), ('or', 'CC'), ('forever', 'RB'), ('finds', 'VBZ'), ('it', 'PPO'), ('closed', 'VBN'), ('.', '.')]], [[('There', 'EX'), ('was', 'BEDZ'), ('about', 'IN'), ('that', 'DT'), ('song', 'NN'), ('something', 'PN'), ('incandescent', 'JJ'), (',', ','), ('for', 'CS'), ('this', 'DT'), ('Brahms', 'NP'), ('was', 'BEDZ'), ('Milstein', 'NP'), ('at', 'IN'), ('white', 'JJ'), ('heat', 'NN'), ('.', '.')], [('Not', '*'), ('the', 'AT'), ('noblest', 'JJT'), ('performance', 'NN'), ('we', 'PPSS'), ('have', 'HV'), ('heard', 'VBN'), ('him', 'PPO'), ('play', 'VB'), (',', ','), ('or', 'CC'), ('the', 'AT'), ('most', 'QL'), ('spacious', 'JJ'), (',', ','), ('or', 'CC'), ('even', 'RB'), ('the', 'AT'), ('most', 'QL'), ('eloquent', 'JJ'), ('.', '.')], [('Those', 'DTS'), ('would', 'MD'), ('be', 'BE'), ('reserved', 'VBN'), ('for', 'IN'), ('the', 'AT'), (\"orchestra's\", 'NN$'), ('great', 'JJ'), ('nights', 'NNS'), ('when', 'WRB'), ('the', 'AT'), ('soloist', 'NN'), ('can', 'MD'), ('surpass', 'VB'), ('himself', 'PPL'), ('.', '.')], [('This', 'DT'), ('time', 'NN'), ('the', 'AT'), ('orchestra', 'NN'), ('gave', 'VBD'), ('him', 'PPO'), ('some', 'DTI'), ('superb', 'JJ'), ('support', 'NN'), ('fired', 'VBN'), ('by', 'IN'), ('response', 'NN'), ('to', 'IN'), ('his', 'PP$'), ('own', 'JJ'), ('high', 'JJ'), ('mood', 'NN'), ('.', '.')], [('But', 'CC'), ('he', 'PPS'), ('had', 'HVD'), ('in', 'IN'), ('Walter', 'NP'), ('Hendl', 'NP'), ('a', 'AT'), ('willing', 'JJ'), ('conductor', 'NN'), ('able', 'JJ'), ('only', 'RB'), ('up', 'IN'), ('to', 'IN'), ('a', 'AT'), ('point', 'NN'), ('.', '.')]], ...]\n"
     ]
    }
   ],
   "source": [
    "from nltk.corpus import brown\n",
    "print(brown.words())\n",
    "print(brown.tagged_words())\n",
    "print(brown.sents())\n",
    "print(brown.tagged_sents())\n",
    "print(brown.paras(categories='reviews'))\n",
    "print(brown.tagged_paras(categories='reviews'))"
   ]
  },
  {
   "cell_type": "code",
   "execution_count": 12,
   "id": "b161622d",
   "metadata": {},
   "outputs": [
    {
     "name": "stderr",
     "output_type": "stream",
     "text": [
      "[nltk_data] Downloading package indian to\n",
      "[nltk_data]     C:\\Users\\sanjay\\AppData\\Roaming\\nltk_data...\n"
     ]
    },
    {
     "name": "stdout",
     "output_type": "stream",
     "text": [
      "['মহিষের', 'সন্তান', ':', 'তোড়া', 'উপজাতি', '৷', ...]\n",
      "[('মহিষের', 'NN'), ('সন্তান', 'NN'), (':', 'SYM'), ...]\n"
     ]
    },
    {
     "name": "stderr",
     "output_type": "stream",
     "text": [
      "[nltk_data]   Unzipping corpora\\indian.zip.\n"
     ]
    }
   ],
   "source": [
    "nltk.download('indian')\n",
    "from nltk.corpus import indian\n",
    "print(indian.words()) \n",
    "print(indian.tagged_words()) "
   ]
  },
  {
   "cell_type": "code",
   "execution_count": 13,
   "id": "676aab9e",
   "metadata": {},
   "outputs": [
    {
     "name": "stderr",
     "output_type": "stream",
     "text": [
      "[nltk_data] Downloading package universal_tagset to\n",
      "[nltk_data]     C:\\Users\\sanjay\\AppData\\Roaming\\nltk_data...\n",
      "[nltk_data]   Unzipping taggers\\universal_tagset.zip.\n",
      "[nltk_data] Downloading package conll2000 to\n",
      "[nltk_data]     C:\\Users\\sanjay\\AppData\\Roaming\\nltk_data...\n",
      "[nltk_data]   Unzipping corpora\\conll2000.zip.\n",
      "[nltk_data] Downloading package switchboard to\n",
      "[nltk_data]     C:\\Users\\sanjay\\AppData\\Roaming\\nltk_data...\n"
     ]
    },
    {
     "name": "stdout",
     "output_type": "stream",
     "text": [
      "[[('The', 'DET'), ('Fulton', 'NOUN'), ('County', 'NOUN'), ('Grand', 'ADJ'), ('Jury', 'NOUN'), ('said', 'VERB'), ('Friday', 'NOUN'), ('an', 'DET'), ('investigation', 'NOUN'), ('of', 'ADP'), (\"Atlanta's\", 'NOUN'), ('recent', 'ADJ'), ('primary', 'NOUN'), ('election', 'NOUN'), ('produced', 'VERB'), ('``', '.'), ('no', 'DET'), ('evidence', 'NOUN'), (\"''\", '.'), ('that', 'ADP'), ('any', 'DET'), ('irregularities', 'NOUN'), ('took', 'VERB'), ('place', 'NOUN'), ('.', '.')], [('The', 'DET'), ('jury', 'NOUN'), ('further', 'ADV'), ('said', 'VERB'), ('in', 'ADP'), ('term-end', 'NOUN'), ('presentments', 'NOUN'), ('that', 'ADP'), ('the', 'DET'), ('City', 'NOUN'), ('Executive', 'ADJ'), ('Committee', 'NOUN'), (',', '.'), ('which', 'DET'), ('had', 'VERB'), ('over-all', 'ADJ'), ('charge', 'NOUN'), ('of', 'ADP'), ('the', 'DET'), ('election', 'NOUN'), (',', '.'), ('``', '.'), ('deserves', 'VERB'), ('the', 'DET'), ('praise', 'NOUN'), ('and', 'CONJ'), ('thanks', 'NOUN'), ('of', 'ADP'), ('the', 'DET'), ('City', 'NOUN'), ('of', 'ADP'), ('Atlanta', 'NOUN'), (\"''\", '.'), ('for', 'ADP'), ('the', 'DET'), ('manner', 'NOUN'), ('in', 'ADP'), ('which', 'DET'), ('the', 'DET'), ('election', 'NOUN'), ('was', 'VERB'), ('conducted', 'VERB'), ('.', '.')], ...]\n",
      "[('Confidence', 'NOUN'), ('in', 'ADP'), ('the', 'DET'), ...]\n"
     ]
    },
    {
     "name": "stderr",
     "output_type": "stream",
     "text": [
      "[nltk_data]   Unzipping corpora\\switchboard.zip.\n"
     ]
    }
   ],
   "source": [
    "nltk.download('universal_tagset')\n",
    "nltk.download('conll2000')\n",
    "nltk.download('switchboard')\n",
    "print(brown.tagged_sents(tagset='universal'))\n",
    "from nltk.corpus import conll2000, switchboard\n",
    "print(conll2000.tagged_words(tagset='universal'))"
   ]
  },
  {
   "cell_type": "markdown",
   "id": "016f4a23",
   "metadata": {},
   "source": [
    "3. Create a text corpus with a minimum of 200 words and implement the following"
   ]
  },
  {
   "cell_type": "code",
   "execution_count": 15,
   "id": "49dfaf81",
   "metadata": {},
   "outputs": [
    {
     "name": "stderr",
     "output_type": "stream",
     "text": [
      "[nltk_data] Downloading package punkt to\n",
      "[nltk_data]     C:\\Users\\sanjay\\AppData\\Roaming\\nltk_data...\n",
      "[nltk_data]   Package punkt is already up-to-date!\n",
      "[nltk_data] Downloading package wordnet to\n",
      "[nltk_data]     C:\\Users\\sanjay\\AppData\\Roaming\\nltk_data...\n",
      "[nltk_data]   Package wordnet is already up-to-date!\n"
     ]
    },
    {
     "data": {
      "text/plain": [
       "['in 2015, spacex began development of the starlink constellation of low-earth-orbit satellites to provide satellite internet access, with the first two prototype satellites launched in february 2018.\\na second set of test satellites, and the first large deployment of a piece of the constellation, occurred in may 2019, when the first 60 operational satellites were launched.',\n",
       " 'the total cost of the decade-long project to design, build, and deploy the constellation is estimated by spacex to be about $10 billion.',\n",
       " 'some critics, including the international astronomical union, have alleged that starlink blocks the view of the sky and poses a collision threat to spacecraft.',\n",
       " 'during the 2022 russian invasion of ukraine, musk sent starlink terminals to ukraine to provide internet access and communication.',\n",
       " 'however, musk refused to block russian state media on starlink, declaring himself \"a free speech absolutist\".',\n",
       " 'in october 2022, musk stated that about 20,000 satellite terminals had been donated to ukraine, together with free data transfer subscriptions, which cost spacex $80 million.',\n",
       " 'after asking the united states department of defense to pay for further units and future subscriptions on behalf of ukraine, musk publicly stated that spacex would continue to provide starlink to ukraine for free, at a yearly cost to itself of $400 million']"
      ]
     },
     "execution_count": 15,
     "metadata": {},
     "output_type": "execute_result"
    }
   ],
   "source": [
    "x = x.lower()\n",
    "     \n",
    "\n",
    "nltk.download('punkt') \n",
    "nltk.download('wordnet') \n",
    "from nltk.tokenize import sent_tokenize, word_tokenize\n",
    "sent_tokens = nltk.sent_tokenize(x) \n",
    "word_tokens = nltk.word_tokenize(x) \n",
    "sent_tokens"
   ]
  },
  {
   "cell_type": "code",
   "execution_count": 16,
   "id": "da9fcf43",
   "metadata": {},
   "outputs": [
    {
     "data": {
      "text/plain": [
       "['in',\n",
       " '2015',\n",
       " ',',\n",
       " 'spacex',\n",
       " 'began',\n",
       " 'development',\n",
       " 'of',\n",
       " 'the',\n",
       " 'starlink',\n",
       " 'constellation',\n",
       " 'of',\n",
       " 'low-earth-orbit',\n",
       " 'satellites',\n",
       " 'to',\n",
       " 'provide',\n",
       " 'satellite',\n",
       " 'internet',\n",
       " 'access',\n",
       " ',',\n",
       " 'with',\n",
       " 'the',\n",
       " 'first',\n",
       " 'two',\n",
       " 'prototype',\n",
       " 'satellites',\n",
       " 'launched',\n",
       " 'in',\n",
       " 'february',\n",
       " '2018.',\n",
       " 'a',\n",
       " 'second',\n",
       " 'set',\n",
       " 'of',\n",
       " 'test',\n",
       " 'satellites',\n",
       " ',',\n",
       " 'and',\n",
       " 'the',\n",
       " 'first',\n",
       " 'large',\n",
       " 'deployment',\n",
       " 'of',\n",
       " 'a',\n",
       " 'piece',\n",
       " 'of',\n",
       " 'the',\n",
       " 'constellation',\n",
       " ',',\n",
       " 'occurred',\n",
       " 'in',\n",
       " 'may',\n",
       " '2019',\n",
       " ',',\n",
       " 'when',\n",
       " 'the',\n",
       " 'first',\n",
       " '60',\n",
       " 'operational',\n",
       " 'satellites',\n",
       " 'were',\n",
       " 'launched',\n",
       " '.',\n",
       " 'the',\n",
       " 'total',\n",
       " 'cost',\n",
       " 'of',\n",
       " 'the',\n",
       " 'decade-long',\n",
       " 'project',\n",
       " 'to',\n",
       " 'design',\n",
       " ',',\n",
       " 'build',\n",
       " ',',\n",
       " 'and',\n",
       " 'deploy',\n",
       " 'the',\n",
       " 'constellation',\n",
       " 'is',\n",
       " 'estimated',\n",
       " 'by',\n",
       " 'spacex',\n",
       " 'to',\n",
       " 'be',\n",
       " 'about',\n",
       " '$',\n",
       " '10',\n",
       " 'billion',\n",
       " '.',\n",
       " 'some',\n",
       " 'critics',\n",
       " ',',\n",
       " 'including',\n",
       " 'the',\n",
       " 'international',\n",
       " 'astronomical',\n",
       " 'union',\n",
       " ',',\n",
       " 'have',\n",
       " 'alleged',\n",
       " 'that',\n",
       " 'starlink',\n",
       " 'blocks',\n",
       " 'the',\n",
       " 'view',\n",
       " 'of',\n",
       " 'the',\n",
       " 'sky',\n",
       " 'and',\n",
       " 'poses',\n",
       " 'a',\n",
       " 'collision',\n",
       " 'threat',\n",
       " 'to',\n",
       " 'spacecraft',\n",
       " '.',\n",
       " 'during',\n",
       " 'the',\n",
       " '2022',\n",
       " 'russian',\n",
       " 'invasion',\n",
       " 'of',\n",
       " 'ukraine',\n",
       " ',',\n",
       " 'musk',\n",
       " 'sent',\n",
       " 'starlink',\n",
       " 'terminals',\n",
       " 'to',\n",
       " 'ukraine',\n",
       " 'to',\n",
       " 'provide',\n",
       " 'internet',\n",
       " 'access',\n",
       " 'and',\n",
       " 'communication',\n",
       " '.',\n",
       " 'however',\n",
       " ',',\n",
       " 'musk',\n",
       " 'refused',\n",
       " 'to',\n",
       " 'block',\n",
       " 'russian',\n",
       " 'state',\n",
       " 'media',\n",
       " 'on',\n",
       " 'starlink',\n",
       " ',',\n",
       " 'declaring',\n",
       " 'himself',\n",
       " '``',\n",
       " 'a',\n",
       " 'free',\n",
       " 'speech',\n",
       " 'absolutist',\n",
       " \"''\",\n",
       " '.',\n",
       " 'in',\n",
       " 'october',\n",
       " '2022',\n",
       " ',',\n",
       " 'musk',\n",
       " 'stated',\n",
       " 'that',\n",
       " 'about',\n",
       " '20,000',\n",
       " 'satellite',\n",
       " 'terminals',\n",
       " 'had',\n",
       " 'been',\n",
       " 'donated',\n",
       " 'to',\n",
       " 'ukraine',\n",
       " ',',\n",
       " 'together',\n",
       " 'with',\n",
       " 'free',\n",
       " 'data',\n",
       " 'transfer',\n",
       " 'subscriptions',\n",
       " ',',\n",
       " 'which',\n",
       " 'cost',\n",
       " 'spacex',\n",
       " '$',\n",
       " '80',\n",
       " 'million',\n",
       " '.',\n",
       " 'after',\n",
       " 'asking',\n",
       " 'the',\n",
       " 'united',\n",
       " 'states',\n",
       " 'department',\n",
       " 'of',\n",
       " 'defense',\n",
       " 'to',\n",
       " 'pay',\n",
       " 'for',\n",
       " 'further',\n",
       " 'units',\n",
       " 'and',\n",
       " 'future',\n",
       " 'subscriptions',\n",
       " 'on',\n",
       " 'behalf',\n",
       " 'of',\n",
       " 'ukraine',\n",
       " ',',\n",
       " 'musk',\n",
       " 'publicly',\n",
       " 'stated',\n",
       " 'that',\n",
       " 'spacex',\n",
       " 'would',\n",
       " 'continue',\n",
       " 'to',\n",
       " 'provide',\n",
       " 'starlink',\n",
       " 'to',\n",
       " 'ukraine',\n",
       " 'for',\n",
       " 'free',\n",
       " ',',\n",
       " 'at',\n",
       " 'a',\n",
       " 'yearly',\n",
       " 'cost',\n",
       " 'to',\n",
       " 'itself',\n",
       " 'of',\n",
       " '$',\n",
       " '400',\n",
       " 'million']"
      ]
     },
     "execution_count": 16,
     "metadata": {},
     "output_type": "execute_result"
    }
   ],
   "source": [
    "word_tokens\n"
   ]
  },
  {
   "cell_type": "code",
   "execution_count": 17,
   "id": "c420670b",
   "metadata": {},
   "outputs": [
    {
     "name": "stderr",
     "output_type": "stream",
     "text": [
      "[nltk_data] Downloading package stopwords to\n",
      "[nltk_data]     C:\\Users\\sanjay\\AppData\\Roaming\\nltk_data...\n"
     ]
    },
    {
     "name": "stdout",
     "output_type": "stream",
     "text": [
      "2015 , spacex began development starlink constellation low-earth-orbit satellites provide satellite internet access , first two prototype satellites launched february 2018. second set test satellites , first large deployment piece constellation , occurred may 2019 , first 60 operational satellites launched . total cost decade-long project design , build , deploy constellation estimated spacex $ 10 billion . critics , including international astronomical union , alleged starlink blocks view sky poses collision threat spacecraft . 2022 russian invasion ukraine , musk sent starlink terminals ukraine provide internet access communication . however , musk refused block russian state media starlink , declaring `` free speech absolutist '' . october 2022 , musk stated 20,000 satellite terminals donated ukraine , together free data transfer subscriptions , cost spacex $ 80 million . asking united states department defense pay units future subscriptions behalf ukraine , musk publicly stated spacex would continue provide starlink ukraine free , yearly cost $ 400 million\n"
     ]
    },
    {
     "name": "stderr",
     "output_type": "stream",
     "text": [
      "[nltk_data]   Unzipping corpora\\stopwords.zip.\n"
     ]
    }
   ],
   "source": [
    "import nltk\n",
    "from nltk.corpus import stopwords\n",
    "nltk.download('stopwords')\n",
    "from nltk.tokenize import word_tokenize\n",
    "tokens = word_tokenize(x)\n",
    "filtered_text = [t for t in tokens if not t in stopwords.words(\"english\")]\n",
    "print(\" \".join(filtered_text))"
   ]
  },
  {
   "cell_type": "code",
   "execution_count": 18,
   "id": "5b4c2a56",
   "metadata": {},
   "outputs": [
    {
     "name": "stdout",
     "output_type": "stream",
     "text": [
      "['in', '2015', ',', 'spacex', 'began', 'development', 'of', 'the', 'starlink', 'constellation', 'of', 'low-earth-orbit', 'satellites', 'to', 'provide', 'satellite', 'internet', 'access', ',', 'with', 'the', 'first', 'two', 'prototype', 'satellites', 'launched', 'in', 'february', '2018.', 'a', 'second', 'set', 'of', 'test', 'satellites', ',', 'and', 'the', 'first', 'large', 'deployment', 'of', 'a', 'piece', 'of', 'the', 'constellation', ',', 'occurred', 'in', 'may', '2019', ',', 'when', 'the', 'first', '60', 'operational', 'satellites', 'were', 'launched', '.', 'the', 'total', 'cost', 'of', 'the', 'decade-long', 'project', 'to', 'design', ',', 'build', ',', 'and', 'deploy', 'the', 'constellation', 'is', 'estimated', 'by', 'spacex', 'to', 'be', 'about', '$', '10', 'billion', '.', 'some', 'critics', ',', 'including', 'the', 'international', 'astronomical', 'union', ',', 'have', 'alleged', 'that', 'starlink', 'blocks', 'the', 'view', 'of', 'the', 'sky', 'and', 'poses', 'a', 'collision', 'threat', 'to', 'spacecraft', '.', 'during', 'the', '2022', 'russian', 'invasion', 'of', 'ukraine', ',', 'musk', 'sent', 'starlink', 'terminals', 'to', 'ukraine', 'to', 'provide', 'internet', 'access', 'and', 'communication', '.', 'however', ',', 'musk', 'refused', 'to', 'block', 'russian', 'state', 'media', 'on', 'starlink', ',', 'declaring', 'himself', '``', 'a', 'free', 'speech', 'absolutist', \"''\", '.', 'in', 'october', '2022', ',', 'musk', 'stated', 'that', 'about', '20,000', 'satellite', 'terminals', 'had', 'been', 'donated', 'to', 'ukraine', ',', 'together', 'with', 'free', 'data', 'transfer', 'subscriptions', ',', 'which', 'cost', 'spacex', '$', '80', 'million', '.', 'after', 'asking', 'the', 'united', 'states', 'department', 'of', 'defense', 'to', 'pay', 'for', 'further', 'units', 'and', 'future', 'subscriptions', 'on', 'behalf', 'of', 'ukraine', ',', 'musk', 'publicly', 'stated', 'that', 'spacex', 'would', 'continue', 'to', 'provide', 'starlink', 'to', 'ukraine', 'for', 'free', ',', 'at', 'a', 'yearly', 'cost', 'to', 'itself', 'of', '$', '400', 'million']\n",
      "['in', '2015', ',', 'spacex', 'began', 'develop', 'of', 'the', 'starlink', 'constel', 'of', 'low-earth-orbit', 'satellit', 'to', 'provid', 'satellit', 'internet', 'access', ',', 'with', 'the', 'first', 'two', 'prototyp', 'satellit', 'launch', 'in', 'februari', '2018.', 'a', 'second', 'set', 'of', 'test', 'satellit', ',', 'and', 'the', 'first', 'larg', 'deploy', 'of', 'a', 'piec', 'of', 'the', 'constel', ',', 'occur', 'in', 'may', '2019', ',', 'when', 'the', 'first', '60', 'oper', 'satellit', 'were', 'launch', '.', 'the', 'total', 'cost', 'of', 'the', 'decade-long', 'project', 'to', 'design', ',', 'build', ',', 'and', 'deploy', 'the', 'constel', 'is', 'estim', 'by', 'spacex', 'to', 'be', 'about', '$', '10', 'billion', '.', 'some', 'critic', ',', 'includ', 'the', 'intern', 'astronom', 'union', ',', 'have', 'alleg', 'that', 'starlink', 'block', 'the', 'view', 'of', 'the', 'sky', 'and', 'pose', 'a', 'collis', 'threat', 'to', 'spacecraft', '.', 'dure', 'the', '2022', 'russian', 'invas', 'of', 'ukrain', ',', 'musk', 'sent', 'starlink', 'termin', 'to', 'ukrain', 'to', 'provid', 'internet', 'access', 'and', 'commun', '.', 'howev', ',', 'musk', 'refus', 'to', 'block', 'russian', 'state', 'media', 'on', 'starlink', ',', 'declar', 'himself', '``', 'a', 'free', 'speech', 'absolutist', \"''\", '.', 'in', 'octob', '2022', ',', 'musk', 'state', 'that', 'about', '20,000', 'satellit', 'termin', 'had', 'been', 'donat', 'to', 'ukrain', ',', 'togeth', 'with', 'free', 'data', 'transfer', 'subscript', ',', 'which', 'cost', 'spacex', '$', '80', 'million', '.', 'after', 'ask', 'the', 'unit', 'state', 'depart', 'of', 'defens', 'to', 'pay', 'for', 'further', 'unit', 'and', 'futur', 'subscript', 'on', 'behalf', 'of', 'ukrain', ',', 'musk', 'publicli', 'state', 'that', 'spacex', 'would', 'continu', 'to', 'provid', 'starlink', 'to', 'ukrain', 'for', 'free', ',', 'at', 'a', 'yearli', 'cost', 'to', 'itself', 'of', '$', '400', 'million']\n"
     ]
    }
   ],
   "source": [
    "from nltk.stem import PorterStemmer\n",
    "from nltk.tokenize import word_tokenize\n",
    "import pandas as pd \n",
    "ps = PorterStemmer()\n",
    "tokens = word_tokenize(x)\n",
    "print(tokens)\n",
    "stemmed = []\n",
    "for token in tokens:\n",
    "     stemmed_word = ps.stem(token)\n",
    "     stemmed.append(stemmed_word)\n",
    "print(stemmed)\n",
    "df = pd.DataFrame(data={\"tokens\":tokens, \"stemmed\": stemmed})\n",
    "     "
   ]
  },
  {
   "cell_type": "code",
   "execution_count": 19,
   "id": "4a16a475",
   "metadata": {},
   "outputs": [
    {
     "name": "stderr",
     "output_type": "stream",
     "text": [
      "[nltk_data] Downloading package omw-1.4 to\n",
      "[nltk_data]     C:\\Users\\sanjay\\AppData\\Roaming\\nltk_data...\n"
     ]
    },
    {
     "name": "stdout",
     "output_type": "stream",
     "text": [
      "Word                Lemma               \n",
      "in                  in                  \n",
      "2015                2015                \n",
      "spacex              spacex              \n",
      "began               began               \n",
      "development         development         \n",
      "of                  of                  \n",
      "the                 the                 \n",
      "starlink            starlink            \n",
      "constellation       constellation       \n",
      "of                  of                  \n",
      "low-earth-orbit     low-earth-orbit     \n",
      "satellites          satellite           \n",
      "to                  to                  \n",
      "provide             provide             \n",
      "satellite           satellite           \n",
      "internet            internet            \n",
      "access              access              \n",
      "with                with                \n",
      "the                 the                 \n",
      "first               first               \n",
      "two                 two                 \n",
      "prototype           prototype           \n",
      "satellites          satellite           \n",
      "launched            launched            \n",
      "in                  in                  \n",
      "february            february            \n",
      "2018.               2018.               \n",
      "a                   a                   \n",
      "second              second              \n",
      "set                 set                 \n",
      "of                  of                  \n",
      "test                test                \n",
      "satellites          satellite           \n",
      "and                 and                 \n",
      "the                 the                 \n",
      "first               first               \n",
      "large               large               \n",
      "deployment          deployment          \n",
      "of                  of                  \n",
      "a                   a                   \n",
      "piece               piece               \n",
      "of                  of                  \n",
      "the                 the                 \n",
      "constellation       constellation       \n",
      "occurred            occurred            \n",
      "in                  in                  \n",
      "may                 may                 \n",
      "2019                2019                \n",
      "when                when                \n",
      "the                 the                 \n",
      "first               first               \n",
      "60                  60                  \n",
      "operational         operational         \n",
      "satellites          satellite           \n",
      "were                were                \n",
      "launched            launched            \n",
      "the                 the                 \n",
      "total               total               \n",
      "cost                cost                \n",
      "of                  of                  \n",
      "the                 the                 \n",
      "decade-long         decade-long         \n",
      "project             project             \n",
      "to                  to                  \n",
      "design              design              \n",
      "build               build               \n",
      "and                 and                 \n",
      "deploy              deploy              \n",
      "the                 the                 \n",
      "constellation       constellation       \n",
      "is                  is                  \n",
      "estimated           estimated           \n",
      "by                  by                  \n",
      "spacex              spacex              \n",
      "to                  to                  \n",
      "be                  be                  \n",
      "about               about               \n",
      "$                   $                   \n",
      "10                  10                  \n",
      "billion             billion             \n",
      "some                some                \n",
      "critics             critic              \n",
      "including           including           \n",
      "the                 the                 \n",
      "international       international       \n",
      "astronomical        astronomical        \n",
      "union               union               \n",
      "have                have                \n",
      "alleged             alleged             \n",
      "that                that                \n",
      "starlink            starlink            \n",
      "blocks              block               \n",
      "the                 the                 \n",
      "view                view                \n",
      "of                  of                  \n",
      "the                 the                 \n",
      "sky                 sky                 \n",
      "and                 and                 \n",
      "poses               pose                \n",
      "a                   a                   \n",
      "collision           collision           \n",
      "threat              threat              \n",
      "to                  to                  \n",
      "spacecraft          spacecraft          \n",
      "during              during              \n",
      "the                 the                 \n",
      "2022                2022                \n",
      "russian             russian             \n",
      "invasion            invasion            \n",
      "of                  of                  \n",
      "ukraine             ukraine             \n",
      "musk                musk                \n",
      "sent                sent                \n",
      "starlink            starlink            \n",
      "terminals           terminal            \n",
      "to                  to                  \n",
      "ukraine             ukraine             \n",
      "to                  to                  \n",
      "provide             provide             \n",
      "internet            internet            \n",
      "access              access              \n",
      "and                 and                 \n",
      "communication       communication       \n",
      "however             however             \n",
      "musk                musk                \n",
      "refused             refused             \n",
      "to                  to                  \n",
      "block               block               \n",
      "russian             russian             \n",
      "state               state               \n",
      "media               medium              \n",
      "on                  on                  \n",
      "starlink            starlink            \n",
      "declaring           declaring           \n",
      "himself             himself             \n",
      "``                  ``                  \n",
      "a                   a                   \n",
      "free                free                \n",
      "speech              speech              \n",
      "absolutist          absolutist          \n",
      "''                  ''                  \n",
      "in                  in                  \n",
      "october             october             \n",
      "2022                2022                \n",
      "musk                musk                \n",
      "stated              stated              \n",
      "that                that                \n",
      "about               about               \n",
      "20,000              20,000              \n",
      "satellite           satellite           \n",
      "terminals           terminal            \n",
      "had                 had                 \n",
      "been                been                \n",
      "donated             donated             \n",
      "to                  to                  \n",
      "ukraine             ukraine             \n",
      "together            together            \n",
      "with                with                \n",
      "free                free                \n",
      "data                data                \n",
      "transfer            transfer            \n",
      "subscriptions       subscription        \n",
      "which               which               \n",
      "cost                cost                \n",
      "spacex              spacex              \n",
      "$                   $                   \n",
      "80                  80                  \n",
      "million             million             \n",
      "after               after               \n",
      "asking              asking              \n",
      "the                 the                 \n",
      "united              united              \n",
      "states              state               \n",
      "department          department          \n",
      "of                  of                  \n",
      "defense             defense             \n",
      "to                  to                  \n",
      "pay                 pay                 \n",
      "for                 for                 \n",
      "further             further             \n",
      "units               unit                \n",
      "and                 and                 \n",
      "future              future              \n",
      "subscriptions       subscription        \n",
      "on                  on                  \n",
      "behalf              behalf              \n",
      "of                  of                  \n",
      "ukraine             ukraine             \n",
      "musk                musk                \n",
      "publicly            publicly            \n",
      "stated              stated              \n",
      "that                that                \n",
      "spacex              spacex              \n",
      "would               would               \n",
      "continue            continue            \n",
      "to                  to                  \n",
      "provide             provide             \n",
      "starlink            starlink            \n",
      "to                  to                  \n",
      "ukraine             ukraine             \n",
      "for                 for                 \n",
      "free                free                \n",
      "at                  at                  \n",
      "a                   a                   \n",
      "yearly              yearly              \n",
      "cost                cost                \n",
      "to                  to                  \n",
      "itself              itself              \n",
      "of                  of                  \n",
      "$                   $                   \n",
      "400                 400                 \n",
      "million             million             \n"
     ]
    }
   ],
   "source": [
    "import nltk\n",
    "nltk.download('omw-1.4')\n",
    "from nltk.stem import WordNetLemmatizer\n",
    "wordnet_lemmatizer = WordNetLemmatizer()\n",
    "punctuations=\"?:!.,;\"\n",
    "sentence_words = nltk.word_tokenize(x)\n",
    "for word in sentence_words:\n",
    "    if word in punctuations:\n",
    "        sentence_words.remove(word)\n",
    "\n",
    "sentence_words\n",
    "print(\"{0:20}{1:20}\".format(\"Word\",\"Lemma\"))\n",
    "for word in sentence_words:\n",
    "    print (\"{0:20}{1:20}\".format(word,wordnet_lemmatizer.lemmatize(word)))"
   ]
  },
  {
   "cell_type": "code",
   "execution_count": 20,
   "id": "6ffcee70",
   "metadata": {},
   "outputs": [
    {
     "name": "stderr",
     "output_type": "stream",
     "text": [
      "[nltk_data] Downloading package averaged_perceptron_tagger to\n",
      "[nltk_data]     C:\\Users\\sanjay\\AppData\\Roaming\\nltk_data...\n"
     ]
    },
    {
     "name": "stdout",
     "output_type": "stream",
     "text": [
      "[('2015', 'CD'), (',', ','), ('spacex', 'VBD'), ('began', 'VBD'), ('development', 'NN'), ('starlink', 'NN'), ('constellation', 'NN'), ('low-earth-orbit', 'NN'), ('satellites', 'NNS'), ('provide', 'VBP'), ('satellite', 'JJ'), ('internet', 'NN'), ('access', 'NN'), (',', ','), ('first', 'RB'), ('two', 'CD'), ('prototype', 'NN'), ('satellites', 'NNS'), ('launched', 'VBD'), ('february', 'JJ'), ('2018.', 'CD'), ('second', 'JJ'), ('set', 'VBN'), ('test', 'NN'), ('satellites', 'NNS'), (',', ','), ('first', 'RB'), ('large', 'JJ'), ('deployment', 'JJ'), ('piece', 'NN'), ('constellation', 'NN'), (',', ','), ('occurred', 'VBD'), ('may', 'MD'), ('2019', 'CD'), (',', ','), ('first', 'RB'), ('60', 'CD'), ('operational', 'JJ'), ('satellites', 'NNS'), ('launched', 'VBD'), ('.', '.')]\n",
      "[('total', 'JJ'), ('cost', 'NN'), ('decade-long', 'JJ'), ('project', 'NN'), ('design', 'NN'), (',', ','), ('build', 'NN'), (',', ','), ('deploy', 'JJ'), ('constellation', 'NN'), ('estimated', 'VBD'), ('spacex', 'JJ'), ('$', '$'), ('10', 'CD'), ('billion', 'CD'), ('.', '.')]\n",
      "[('critics', 'NNS'), (',', ','), ('including', 'VBG'), ('international', 'JJ'), ('astronomical', 'JJ'), ('union', 'NN'), (',', ','), ('alleged', 'VBD'), ('starlink', 'NN'), ('blocks', 'NNS'), ('view', 'VBP'), ('sky', 'JJ'), ('poses', 'NNS'), ('collision', 'NN'), ('threat', 'NN'), ('spacecraft', 'NN'), ('.', '.')]\n",
      "[('2022', 'CD'), ('russian', 'JJ'), ('invasion', 'NN'), ('ukraine', 'NN'), (',', ','), ('musk', 'FW'), ('sent', 'VBD'), ('starlink', 'NN'), ('terminals', 'NNS'), ('ukraine', 'JJ'), ('provide', 'VBP'), ('internet', 'JJ'), ('access', 'NN'), ('communication', 'NN'), ('.', '.')]\n",
      "[('however', 'RB'), (',', ','), ('musk', 'NNS'), ('refused', 'VBD'), ('block', 'NN'), ('russian', 'NN'), ('state', 'NN'), ('media', 'NNS'), ('starlink', 'NN'), (',', ','), ('declaring', 'VBG'), ('``', '``'), ('free', 'JJ'), ('speech', 'NN'), ('absolutist', 'NN'), (\"''\", \"''\"), ('.', '.')]\n",
      "[('october', 'NN'), ('2022', 'CD'), (',', ','), ('musk', 'NN'), ('stated', 'VBD'), ('20,000', 'CD'), ('satellite', 'NN'), ('terminals', 'NNS'), ('donated', 'VBD'), ('ukraine', 'JJ'), (',', ','), ('together', 'RB'), ('free', 'JJ'), ('data', 'NNS'), ('transfer', 'NN'), ('subscriptions', 'NNS'), (',', ','), ('cost', 'NN'), ('spacex', 'VBD'), ('$', '$'), ('80', 'CD'), ('million', 'CD'), ('.', '.')]\n",
      "[('asking', 'VBG'), ('united', 'JJ'), ('states', 'NNS'), ('department', 'NN'), ('defense', 'NN'), ('pay', 'VBP'), ('units', 'NNS'), ('future', 'JJ'), ('subscriptions', 'NNS'), ('behalf', 'NN'), ('ukraine', 'JJ'), (',', ','), ('musk', 'JJ'), ('publicly', 'RB'), ('stated', 'VBN'), ('spacex', 'NN'), ('would', 'MD'), ('continue', 'VB'), ('provide', 'VB'), ('starlink', 'JJR'), ('ukraine', 'JJ'), ('free', 'JJ'), (',', ','), ('yearly', 'RB'), ('cost', 'VBD'), ('$', '$'), ('400', 'CD'), ('million', 'CD')]\n"
     ]
    },
    {
     "name": "stderr",
     "output_type": "stream",
     "text": [
      "[nltk_data]   Unzipping taggers\\averaged_perceptron_tagger.zip.\n"
     ]
    }
   ],
   "source": [
    "import nltk\n",
    "nltk.download('averaged_perceptron_tagger')\n",
    "from nltk.corpus import stopwords\n",
    "from nltk.tokenize import word_tokenize, sent_tokenize\n",
    "stop_words = set(stopwords.words('english'))\n",
    "tokenized = sent_tokenize(x)\n",
    "for i in tokenized:\n",
    "\twordsList = nltk.word_tokenize(i)\n",
    "\twordsList = [w for w in wordsList if not w in stop_words]\n",
    "\ttagged = nltk.pos_tag(wordsList)\n",
    "\tprint(tagged)\n",
    "     "
   ]
  }
 ],
 "metadata": {
  "kernelspec": {
   "display_name": "Python 3 (ipykernel)",
   "language": "python",
   "name": "python3"
  },
  "language_info": {
   "codemirror_mode": {
    "name": "ipython",
    "version": 3
   },
   "file_extension": ".py",
   "mimetype": "text/x-python",
   "name": "python",
   "nbconvert_exporter": "python",
   "pygments_lexer": "ipython3",
   "version": "3.9.7"
  }
 },
 "nbformat": 4,
 "nbformat_minor": 5
}
